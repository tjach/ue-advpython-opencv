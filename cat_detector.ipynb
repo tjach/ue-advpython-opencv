{
 "cells": [
  {
   "cell_type": "code",
   "execution_count": 33,
   "metadata": {
    "collapsed": true
   },
   "outputs": [],
   "source": [
    "import cv2\n",
    "import imutils"
   ]
  },
  {
   "cell_type": "code",
   "execution_count": 38,
   "outputs": [],
   "source": [
    "image_path = \"img/20211204_122112.jpg\"\n",
    "detector_path = \"models/haarcascade_frontalcatface_extended.xml\""
   ],
   "metadata": {
    "collapsed": false,
    "pycharm": {
     "name": "#%%\n"
    }
   }
  },
  {
   "cell_type": "code",
   "execution_count": 39,
   "outputs": [],
   "source": [
    "image = cv2.imread(image_path)\n",
    "image = imutils.resize(image,width=800)\n",
    "\n",
    "gray = cv2.cvtColor(image, cv2.COLOR_BGR2GRAY)\n",
    "# load the cat detector Haar cascade, then detect cat faces\n",
    "# in the input image\n",
    "detector = cv2.CascadeClassifier(detector_path)\n",
    "rects = detector.detectMultiScale(gray,\n",
    "\t\t\t\t\t\t\t\t  scaleFactor=1.1,\n",
    "\t\t\t\t\t\t\t\t  minNeighbors=5,\n",
    "\t\t\t\t\t\t\t\t  minSize=(10, 10))"
   ],
   "metadata": {
    "collapsed": false,
    "pycharm": {
     "name": "#%%\n"
    }
   }
  },
  {
   "cell_type": "code",
   "execution_count": 40,
   "outputs": [
    {
     "name": "stdout",
     "output_type": "stream",
     "text": [
      "Cat found\n"
     ]
    },
    {
     "data": {
      "text/plain": "-1"
     },
     "execution_count": 40,
     "metadata": {},
     "output_type": "execute_result"
    }
   ],
   "source": [
    "# loop over the cat faces and draw a rectangle surrounding each\n",
    "for (i, (x, y, w, h)) in enumerate(rects):\n",
    "\tprint(\"Cat found\")\n",
    "\tcv2.rectangle(image, (x, y), (x + w, y + h), (0, 0, 255), 2)\n",
    "\tcv2.putText(image, \"Cat #{}\".format(i + 1), (x, y - 10),\n",
    "\t\tcv2.FONT_HERSHEY_SIMPLEX, 0.55, (0, 0, 255), 2)\n",
    "# show the detected cat faces\n",
    "cv2.imshow(\"Cat Faces\", image)\n",
    "cv2.waitKey(0)"
   ],
   "metadata": {
    "collapsed": false,
    "pycharm": {
     "name": "#%%\n"
    }
   }
  },
  {
   "cell_type": "code",
   "execution_count": 29,
   "outputs": [
    {
     "data": {
      "text/plain": "-1"
     },
     "execution_count": 29,
     "metadata": {},
     "output_type": "execute_result"
    }
   ],
   "source": [
    "image = cv2.imread(image_path)\n",
    "image = imutils.resize(image,width=800)\n",
    "cv2.imshow(\"Cat Faces\", image)\n",
    "cv2.waitKey(0)"
   ],
   "metadata": {
    "collapsed": false,
    "pycharm": {
     "name": "#%%\n"
    }
   }
  },
  {
   "cell_type": "code",
   "execution_count": null,
   "outputs": [],
   "source": [],
   "metadata": {
    "collapsed": false,
    "pycharm": {
     "name": "#%%\n"
    }
   }
  }
 ],
 "metadata": {
  "kernelspec": {
   "display_name": "Python 3",
   "language": "python",
   "name": "python3"
  },
  "language_info": {
   "codemirror_mode": {
    "name": "ipython",
    "version": 2
   },
   "file_extension": ".py",
   "mimetype": "text/x-python",
   "name": "python",
   "nbconvert_exporter": "python",
   "pygments_lexer": "ipython2",
   "version": "2.7.6"
  }
 },
 "nbformat": 4,
 "nbformat_minor": 0
}